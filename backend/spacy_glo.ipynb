{
 "cells": [
  {
   "cell_type": "code",
   "execution_count": null,
   "metadata": {},
   "outputs": [],
   "source": [
    "import spacy\n",
    "import os\n",
    "import pandas as pd\n",
    "import geopy \n",
    "import matplotlib.pyplot as plt\n",
    "import requests\n",
    "from bs4 import BeautifulSoup #Parses HTML content\n",
    "from collections import Counter #Counts item frequencies in a list\n",
    "from geopy.extra.rate_limiter import RateLimiter\n",
    "from spacy import displacy"
   ]
  },
  {
   "cell_type": "markdown",
   "metadata": {},
   "source": [
    "### Get URL Text"
   ]
  },
  {
   "cell_type": "code",
   "execution_count": null,
   "metadata": {},
   "outputs": [],
   "source": [
    "url = \"https://www.cnn.com/travel/article/experts-guide-to-great-american-road-trips/index.html\"\n",
    "data = requests.get(url)"
   ]
  },
  {
   "cell_type": "code",
   "execution_count": null,
   "metadata": {},
   "outputs": [],
   "source": [
    "#Parse out HTML tags and clean up newlines\n",
    "soup = BeautifulSoup(data.content, 'html.parser')\n",
    "text = soup.get_text()\n",
    "text = text.strip().replace(\"\\n\", \" \").replace(\"\\r\", \" \")"
   ]
  },
  {
   "cell_type": "markdown",
   "metadata": {},
   "source": [
    "### Load the spacy model\n",
    "\n",
    "In addition to installing spacy, need to install the model with:\n",
    "\n",
    "requires conda install -c conda-forge spacy-model-en_core_web_lg"
   ]
  },
  {
   "cell_type": "code",
   "execution_count": null,
   "metadata": {},
   "outputs": [],
   "source": [
    "nlp = spacy.load(\"en_core_web_lg\")\n"
   ]
  },
  {
   "cell_type": "code",
   "execution_count": null,
   "metadata": {},
   "outputs": [],
   "source": [
    "text = \"Time!In 2013, a bespectacled Sunday school teacher from Atlanta, Georgia, drove from New York to Redondo Beach, California in a world record-setting 28 hours and 50 minutes.We can\\'t recommend this -- Ed Bolian and his co-driver averaged 98 miles per hour during the journey, and could easily have gone to jail in any number of states.It\\'s also a loss from a travel perspective. Any itinerary should leave room to sample America\\'s rich and nutty menu of roadside attractions. We\\'ve broken them down into a few helpful categories.\"\n"
   ]
  },
  {
   "cell_type": "markdown",
   "metadata": {},
   "source": [
    "## Natural Language Processing to tokenize and label text"
   ]
  },
  {
   "cell_type": "code",
   "execution_count": 24,
   "metadata": {},
   "outputs": [
    {
     "data": {
      "text/plain": [
       "\"Time!In 2013, a bespectacled Sunday school teacher from Atlanta, Georgia, drove from New York to Redondo Beach, California in a world record-setting 28 hours and 50 minutes.We can't recommend this -- Ed Bolian and his co-driver averaged 98 miles per hour during the journey, and could easily have gone to jail in any number of states.It's also a loss from a travel perspective. Any itinerary should leave room to sample America's rich and nutty menu of roadside attractions. We've broken them down into a few helpful categories.\""
      ]
     },
     "execution_count": 24,
     "metadata": {},
     "output_type": "execute_result"
    }
   ],
   "source": [
    "text"
   ]
  },
  {
   "cell_type": "code",
   "execution_count": 25,
   "metadata": {},
   "outputs": [
    {
     "data": {
      "text/html": [
       "<span class=\"tex2jax_ignore\"><div class=\"entities\" style=\"line-height: 2.5; direction: ltr\">Time!In 2013, a bespectacled \n",
       "<mark class=\"entity\" style=\"background: #bfe1d9; padding: 0.45em 0.6em; margin: 0 0.25em; line-height: 1; border-radius: 0.35em;\">\n",
       "    Sunday\n",
       "    <span style=\"font-size: 0.8em; font-weight: bold; line-height: 1; border-radius: 0.35em; vertical-align: middle; margin-left: 0.5rem\">DATE</span>\n",
       "</mark>\n",
       " school teacher from \n",
       "<mark class=\"entity\" style=\"background: #feca74; padding: 0.45em 0.6em; margin: 0 0.25em; line-height: 1; border-radius: 0.35em;\">\n",
       "    Atlanta\n",
       "    <span style=\"font-size: 0.8em; font-weight: bold; line-height: 1; border-radius: 0.35em; vertical-align: middle; margin-left: 0.5rem\">GPE</span>\n",
       "</mark>\n",
       ", \n",
       "<mark class=\"entity\" style=\"background: #feca74; padding: 0.45em 0.6em; margin: 0 0.25em; line-height: 1; border-radius: 0.35em;\">\n",
       "    Georgia\n",
       "    <span style=\"font-size: 0.8em; font-weight: bold; line-height: 1; border-radius: 0.35em; vertical-align: middle; margin-left: 0.5rem\">GPE</span>\n",
       "</mark>\n",
       ", drove from \n",
       "<mark class=\"entity\" style=\"background: #feca74; padding: 0.45em 0.6em; margin: 0 0.25em; line-height: 1; border-radius: 0.35em;\">\n",
       "    New York\n",
       "    <span style=\"font-size: 0.8em; font-weight: bold; line-height: 1; border-radius: 0.35em; vertical-align: middle; margin-left: 0.5rem\">GPE</span>\n",
       "</mark>\n",
       " to \n",
       "<mark class=\"entity\" style=\"background: #feca74; padding: 0.45em 0.6em; margin: 0 0.25em; line-height: 1; border-radius: 0.35em;\">\n",
       "    Redondo Beach\n",
       "    <span style=\"font-size: 0.8em; font-weight: bold; line-height: 1; border-radius: 0.35em; vertical-align: middle; margin-left: 0.5rem\">GPE</span>\n",
       "</mark>\n",
       ", \n",
       "<mark class=\"entity\" style=\"background: #feca74; padding: 0.45em 0.6em; margin: 0 0.25em; line-height: 1; border-radius: 0.35em;\">\n",
       "    California\n",
       "    <span style=\"font-size: 0.8em; font-weight: bold; line-height: 1; border-radius: 0.35em; vertical-align: middle; margin-left: 0.5rem\">GPE</span>\n",
       "</mark>\n",
       " in a world record-setting \n",
       "<mark class=\"entity\" style=\"background: #bfe1d9; padding: 0.45em 0.6em; margin: 0 0.25em; line-height: 1; border-radius: 0.35em;\">\n",
       "    28 hours and 50 minutes\n",
       "    <span style=\"font-size: 0.8em; font-weight: bold; line-height: 1; border-radius: 0.35em; vertical-align: middle; margin-left: 0.5rem\">TIME</span>\n",
       "</mark>\n",
       ".We can't recommend this -- \n",
       "<mark class=\"entity\" style=\"background: #aa9cfc; padding: 0.45em 0.6em; margin: 0 0.25em; line-height: 1; border-radius: 0.35em;\">\n",
       "    Ed Bolian\n",
       "    <span style=\"font-size: 0.8em; font-weight: bold; line-height: 1; border-radius: 0.35em; vertical-align: middle; margin-left: 0.5rem\">PERSON</span>\n",
       "</mark>\n",
       " and his co-driver averaged \n",
       "<mark class=\"entity\" style=\"background: #e4e7d2; padding: 0.45em 0.6em; margin: 0 0.25em; line-height: 1; border-radius: 0.35em;\">\n",
       "    98 miles\n",
       "    <span style=\"font-size: 0.8em; font-weight: bold; line-height: 1; border-radius: 0.35em; vertical-align: middle; margin-left: 0.5rem\">QUANTITY</span>\n",
       "</mark>\n",
       " per hour during the journey, and could easily have gone to jail in any number of states.It's also a loss from a travel perspective. Any itinerary should leave room to sample \n",
       "<mark class=\"entity\" style=\"background: #feca74; padding: 0.45em 0.6em; margin: 0 0.25em; line-height: 1; border-radius: 0.35em;\">\n",
       "    America\n",
       "    <span style=\"font-size: 0.8em; font-weight: bold; line-height: 1; border-radius: 0.35em; vertical-align: middle; margin-left: 0.5rem\">GPE</span>\n",
       "</mark>\n",
       "'s rich and nutty menu of roadside attractions. We've broken them down into a few helpful categories.</div></span>"
      ],
      "text/plain": [
       "<IPython.core.display.HTML object>"
      ]
     },
     "metadata": {},
     "output_type": "display_data"
    }
   ],
   "source": [
    "doc = nlp(text)\n",
    "displacy.render(doc, style=\"ent\")"
   ]
  },
  {
   "cell_type": "markdown",
   "metadata": {},
   "source": [
    "### Detected places to dataframe"
   ]
  },
  {
   "cell_type": "code",
   "execution_count": null,
   "metadata": {},
   "outputs": [],
   "source": [
    "locations = []\n",
    "\n",
    "locations.extend([[ent.text, ent.start, ent.end, ent.label_, spacy.explain(ent.label_)] for ent in doc.ents ])\n",
    "df_all = pd.DataFrame(locations, columns=['Location', 'start','end', 'label', 'meaning'])\n",
    "df_all"
   ]
  },
  {
   "cell_type": "code",
   "execution_count": null,
   "metadata": {},
   "outputs": [],
   "source": [
    "label_unique = list(df_all['label'].unique())\n",
    "\n",
    "for l in label_unique:\n",
    "    print(l)\n",
    "    print(spacy.explain(l))"
   ]
  },
  {
   "cell_type": "code",
   "execution_count": null,
   "metadata": {},
   "outputs": [],
   "source": [
    "# Just the locations\n",
    "\n",
    "loc_codes = ['GPE', 'LOC']\n",
    "\n",
    "df_places = df_all.loc[df_all['label'].isin(loc_codes)]\n",
    "\n",
    "df_places"
   ]
  },
  {
   "cell_type": "markdown",
   "metadata": {},
   "source": [
    "### Geocode locations with geopy"
   ]
  },
  {
   "cell_type": "code",
   "execution_count": null,
   "metadata": {},
   "outputs": [],
   "source": [
    "locator = geopy.geocoders.Nominatim(user_agent='mygeocoder')\n",
    "geocode = RateLimiter(locator.geocode, min_delay_seconds=1)\n",
    "# geocode = RateLimiter(locator.geocode('Atlanta', addressdetails=True), min_delay_seconds=1)"
   ]
  },
  {
   "cell_type": "code",
   "execution_count": null,
   "metadata": {},
   "outputs": [],
   "source": [
    "locations = [ locator.geocode(loc, addressdetails=True) for loc in list(df_places['Location'])]"
   ]
  },
  {
   "cell_type": "code",
   "execution_count": null,
   "metadata": {},
   "outputs": [],
   "source": [
    "locations_raw = []\n",
    "city = []\n",
    "state = []\n",
    "country = []\n",
    "\n",
    "for loc in locations:\n",
    "    if loc is not None:\n",
    "        add = loc.raw['address']\n",
    "        locations_raw.append(add)\n",
    "        add_parts = list(add.keys())\n",
    "        \n",
    "        if 'city' in add_parts:\n",
    "            city.append(add['city'])\n",
    "        else:\n",
    "            city.append('')\n",
    "\n",
    "        if 'state' in add_parts:\n",
    "            state.append(add['state'])\n",
    "        else:\n",
    "            state.append('')\n",
    "\n",
    "        if 'county' in add_parts:\n",
    "            country.append(add['country'])\n",
    "        else:\n",
    "            country.append('')\n",
    "\n",
    "    else:\n",
    "        locations_raw.append('')\n",
    "        city.append('')\n",
    "        state.append('')\n",
    "        country.append('')"
   ]
  },
  {
   "cell_type": "code",
   "execution_count": null,
   "metadata": {},
   "outputs": [],
   "source": [
    "df_places['add_raw'] = locations_raw\n",
    "df_places['city'] = city\n",
    "df_places['state'] = state\n",
    "df_places['country'] = country\n",
    "df_places"
   ]
  },
  {
   "cell_type": "markdown",
   "metadata": {},
   "source": [
    "### TODO Dataframe to input dict for geonenrichment"
   ]
  }
 ],
 "metadata": {
  "interpreter": {
   "hash": "885090ee2708f9eca3755f9592a08558cab2828f5b9ffb2f2b10e9f580e9d927"
  },
  "kernelspec": {
   "display_name": "Python 3.9.2 64-bit ('advpy': conda)",
   "language": "python",
   "name": "python3"
  },
  "language_info": {
   "codemirror_mode": {
    "name": "ipython",
    "version": 3
   },
   "file_extension": ".py",
   "mimetype": "text/x-python",
   "name": "python",
   "nbconvert_exporter": "python",
   "pygments_lexer": "ipython3",
   "version": "3.9.2"
  },
  "orig_nbformat": 4
 },
 "nbformat": 4,
 "nbformat_minor": 2
}
